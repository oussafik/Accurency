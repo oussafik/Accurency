{
 "cells": [
  {
   "cell_type": "code",
   "execution_count": null,
   "id": "4277bda9-d444-4c58-9697-892b386e1b69",
   "metadata": {},
   "outputs": [],
   "source": [
    "import pyspark"
   ]
  },
  {
   "cell_type": "code",
   "execution_count": null,
   "id": "dcbda63b-424d-464f-a993-fe047d177874",
   "metadata": {},
   "outputs": [],
   "source": [
    "from cassandra.cluster import Cluster\n",
    "\n",
    "# Cassandra configuration\n",
    "cassandra_contact_points = ['192.168.1.22']  # Replace with your Cassandra contact points\n",
    "cassandra_keyspace = 'stock_market'  # Replace with your keyspace name\n",
    "cassandra_table = 'coins_reddit'  # Replace with your table name\n",
    "\n",
    "# Connect to the Cassandra cluster\n",
    "cluster = Cluster(cassandra_contact_points)\n",
    "session = cluster.connect()\n",
    "\n",
    "# Switch to the keyspace\n",
    "session.set_keyspace(cassandra_keyspace)\n",
    "\n",
    "# Query to retrieve data from the table\n",
    "query = f\"SELECT count(*) FROM {cassandra_table};\"\n",
    "\n",
    "# Execute the query\n",
    "result_set = session.execute(query)\n",
    "\n",
    "# Iterate over the result set and print the data\n",
    "for row in result_set:\n",
    "    print(row)\n",
    "\n",
    "# Close the Cassandra session and cluster connection\n",
    "session.shutdown()\n",
    "cluster.shutdown()"
   ]
  },
  {
   "cell_type": "code",
   "execution_count": null,
   "id": "46508521-884a-4d1d-bee3-3574328c4cf0",
   "metadata": {},
   "outputs": [],
   "source": [
    "import pyspark.ml"
   ]
  },
  {
   "cell_type": "code",
   "execution_count": null,
   "id": "08d338eb-e39a-4243-ab0b-38c1289565ba",
   "metadata": {},
   "outputs": [],
   "source": [
    "!pip show transformers"
   ]
  },
  {
   "cell_type": "code",
   "execution_count": null,
   "id": "1b568cf2-e858-4839-afac-d7beb49ed0c4",
   "metadata": {},
   "outputs": [],
   "source": [
    "from transformers import AutoTokenizer, AutoModelForSequenceClassification\n",
    "from scipy.special import softmax"
   ]
  },
  {
   "cell_type": "code",
   "execution_count": null,
   "id": "3030c272-e18f-467c-afb6-80d7a2271c5b",
   "metadata": {},
   "outputs": [],
   "source": [
    "# load model and tokenizer\n",
    "roberta = \"cardiffnlp/twitter-roberta-base-sentiment\"\n",
    "\n",
    "model = AutoModelForSequenceClassification.from_pretrained(roberta)\n",
    "tokenizer = AutoTokenizer.from_pretrained(roberta)\n",
    "\n",
    "labels = ['Negative', 'Neutral', 'Positive']"
   ]
  },
  {
   "cell_type": "code",
   "execution_count": null,
   "id": "5770fa28-cacd-496c-9fd1-4d8177705623",
   "metadata": {},
   "outputs": [],
   "source": [
    "!pip install torch"
   ]
  },
  {
   "cell_type": "code",
   "execution_count": null,
   "id": "689e491c-5738-4d90-be43-4c7d95b29df1",
   "metadata": {},
   "outputs": [],
   "source": [
    "import tweepy\n",
    "import time\n",
    "from transformers import AutoTokenizer, AutoModelForSequenceClassification\n",
    "from scipy.special import softmax\n",
    "from kafka import KafkaProducer\n",
    "import json\n",
    "import time\n",
    "\n",
    "# Credentials\n",
    "api_key = \"2cpcfEOVjxZnVh4de3gqhNE4d\"\n",
    "api_secret = \"Fsma5JVCMZCpOCxGeRomwMi8DS4ZC5zKBWGD8ppKWVKDjJ49yj\"\n",
    "bearer_token = \"AAAAAAAAAAAAAAAAAAAAAOCgmAEAAAAAGS3EYrbGYhhsmoOEDUPCe8t7cc0%3DMOxhTd4keIGhUnVNwegmsmzAmBcv13MiWwEYxZoZo9QgmBc6vk\"\n",
    "access_token = \"1548626209491374080-mp4DCN2E430ZoSaMLoXlL7n1cv5NgX\"\n",
    "access_token_secret = \"h1s86z4bVkJIPRMlIQjwY20xkNaaIS8LLfHdSHMLu36uh\"\n",
    "\n",
    "# Creating Tweepy API object\n",
    "auth = tweepy.OAuth1UserHandler(api_key, api_secret, access_token, access_token_secret)\n",
    "api = tweepy.API(auth)\n",
    "\n",
    "# load model and tokenizer\n",
    "roberta = \"cardiffnlp/twitter-roberta-base-sentiment\"\n",
    "\n",
    "model = AutoModelForSequenceClassification.from_pretrained(roberta)\n",
    "tokenizer = AutoTokenizer.from_pretrained(roberta)\n",
    "\n",
    "labels = ['Negative', 'Neutral', 'Positive']\n",
    "\n",
    "def json_serializer(data):\n",
    "    return json.dumps(data).encode(\"utf-8\")\n",
    "\n",
    "producer = KafkaProducer(bootstrap_servers=['192.168.1.87:9092'],value_serializer=json_serializer)\n",
    "\n",
    "# Bot searches for tweets containing certain keywords\n",
    "class MyStream(tweepy.StreamingClient):\n",
    "\n",
    "    # This function gets called when the stream is working\n",
    "    def on_connect(self):\n",
    "        print(\"Connected\")\n",
    "\n",
    "    # This function gets called when a tweet passes the stream\n",
    "    def on_tweet(self, tweet):\n",
    "        if tweet.referenced_tweets is None:\n",
    "            # Extracting tweet information\n",
    "            text = tweet.text\n",
    "            user_id = tweet.author_id\n",
    "            retweet_count = tweet.public_metrics['retweet_count']\n",
    "            created_at = tweet.created_at\n",
    "            favorite_count = tweet.public_metrics['like_count']\n",
    "            reply_count = tweet.public_metrics['reply_count']\n",
    "\n",
    "            # sentiment analysis\n",
    "            encoded_tweet = tokenizer(tweet.text, return_tensors='pt')\n",
    "            output = model(**encoded_tweet)\n",
    "\n",
    "            scores = output[0][0].detach().numpy()\n",
    "            scores = softmax(scores)\n",
    "            ind = scores.argmax()\n",
    "            result = labels[ind]\n",
    "            # Printing tweet information\n",
    "            print(f\"Text: {text}\\nUser ID: {user_id}\\nRetweets: {retweet_count}\\nFavorites: {favorite_count}\\nReply: {reply_count}\\nCreated at: {created_at}\\nSentiment: {result}\\n\")\n",
    "\n",
    "            message = {\"User ID\":user_id,\"Text\":text,\"Created At\":created_at.strftime(\"%Y-%m-%d %H:%M:%S\"),\"Retweets\":retweet_count,\"Favorites\":favorite_count,\"Reply\":reply_count,\"Sentiment\":result}\n",
    "            producer.send(\"tweets\", message)\n",
    "            # Delay between tweets\n",
    "            time.sleep(0.5)\n",
    "\n",
    "# Creating Stream object\n",
    "stream = MyStream(bearer_token=bearer_token)\n",
    "\n",
    "# Adding terms to search rules\n",
    "for term in [\"iphone\", \"apple\", \"samsung\", \"redmi\", \"applewatch\"]:\n",
    "    stream.add_rules(tweepy.StreamRule(term))\n",
    "\n",
    "# Starting stream\n",
    "stream.filter(tweet_fields=[\"referenced_tweets\", \"author_id\",\"created_at\", \"public_metrics\",\"id\"])"
   ]
  }
 ],
 "metadata": {
  "kernelspec": {
   "display_name": "Python 3 (ipykernel)",
   "language": "python",
   "name": "python3"
  },
  "language_info": {
   "codemirror_mode": {
    "name": "ipython",
    "version": 3
   },
   "file_extension": ".py",
   "mimetype": "text/x-python",
   "name": "python",
   "nbconvert_exporter": "python",
   "pygments_lexer": "ipython3",
   "version": "3.11.6"
  }
 },
 "nbformat": 4,
 "nbformat_minor": 5
}
